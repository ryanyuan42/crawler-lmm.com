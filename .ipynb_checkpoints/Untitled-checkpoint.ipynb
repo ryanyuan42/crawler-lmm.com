{
 "cells": [
  {
   "cell_type": "code",
   "execution_count": 1,
   "metadata": {
    "collapsed": true
   },
   "outputs": [],
   "source": [
    "import requests\n",
    "import re\n",
    "def get_lineMsg(s):\n",
    "\turl = 'http://www.lvmama.com/youlun/line-l660-s0-b0-m0.html'\n",
    "\tcontent = s.get(url).content.decode('utf-8')\n",
    "\tcruise_msg = re.findall(re.compile(r'(<h4>)(.*?>)(.*?)<'), content)\n",
    "\tdate = []\n",
    "\tcruise = []\n",
    "\tprice = []\n",
    "\tfor msg in cruise_msg:\n",
    "\t\tdate.append(re.findall(re.compile(r'\\d+月\\d+日'), msg[2])[0])\n",
    "\t\tcruisere.findall(re.compile(r'data-branchName=\"(.*)\"\\r'), hotel_type)\n",
    "\t\tprice.append(re.findall(re.compile(r'<big>(.*?)</big>'), content)[0])\n",
    "\treturn date, cruise"
   ]
  },
  {
   "cell_type": "code",
   "execution_count": 2,
   "metadata": {
    "collapsed": true
   },
   "outputs": [],
   "source": [
    "s = requests.session()\n",
    "url = 'http://www.lvmama.com/youlun/line-l660-s0-b0-m0.html'\n",
    "content = s.get(url).content.decode('utf-8')"
   ]
  },
  {
   "cell_type": "code",
   "execution_count": 3,
   "metadata": {
    "collapsed": false
   },
   "outputs": [],
   "source": [
    "from bs4 import BeautifulSoup"
   ]
  },
  {
   "cell_type": "code",
   "execution_count": 4,
   "metadata": {
    "collapsed": false
   },
   "outputs": [],
   "source": [
    "soup = BeautifulSoup(content, \"html.parser\")"
   ]
  },
  {
   "cell_type": "code",
   "execution_count": 5,
   "metadata": {
    "collapsed": false
   },
   "outputs": [],
   "source": [
    "link = []\n",
    "for header in soup.find_all(\"h4\"):\n",
    "    try:\n",
    "        link.append(re.findall(re.compile(r'(href=\")(.*?)(\"\\s)'), str(header))[0][1])\n",
    "    except IndexError as e:\n",
    "        print(\"cannot find the link\")"
   ]
  },
  {
   "cell_type": "code",
   "execution_count": 6,
   "metadata": {
    "collapsed": false
   },
   "outputs": [
    {
     "name": "stdout",
     "output_type": "stream",
     "text": [
      "page 1 scaned\n",
      "page 2 scaned\n",
      "page 3 scaned\n",
      "page 4 scaned\n",
      "page 5 scaned\n",
      "page 6 scaned\n",
      "page 7 scaned\n",
      "page 8 scaned\n",
      "page 9 scaned\n",
      "page 10 scaned\n",
      "page 11 scaned\n",
      "page 12 scaned\n",
      "page 13 scaned\n",
      "page 14 scaned\n",
      "page 15 scaned\n"
     ]
    }
   ],
   "source": [
    "hotel = []\n",
    "price = []\n",
    "page = 1\n",
    "for l in link:\n",
    "\thotel_type = s.get(l).content.decode('utf-8')\n",
    "\thotel.append(re.findall(re.compile(r'data-branchName=\"(.*)\"\\r'), hotel_type))\n",
    "\tprice.append(re.findall(re.compile(r'data-fstPrice=\"(.*)\"\\r'), hotel_type))\n",
    "\tprint(\"page {0} scaned\".format(page))\n",
    "\tpage += 1"
   ]
  },
  {
   "cell_type": "code",
   "execution_count": 52,
   "metadata": {
    "collapsed": false
   },
   "outputs": [],
   "source": [
    "soup2 = BeautifulSoup(hotel_type, \"html.parser\")"
   ]
  },
  {
   "cell_type": "code",
   "execution_count": 79,
   "metadata": {
    "collapsed": false
   },
   "outputs": [
    {
     "data": {
      "text/plain": [
       "['3900', '5500']"
      ]
     },
     "execution_count": 79,
     "metadata": {},
     "output_type": "execute_result"
    }
   ],
   "source": [
    "re.findall(re.compile(r'data-fstPrice=\"(.*)\"\\r'), hotel_type)"
   ]
  },
  {
   "cell_type": "code",
   "execution_count": 80,
   "metadata": {
    "collapsed": false
   },
   "outputs": [
    {
     "data": {
      "text/plain": [
       "['随机海景双人房', '标准套房双人房JS']"
      ]
     },
     "execution_count": 80,
     "metadata": {},
     "output_type": "execute_result"
    }
   ],
   "source": [
    "re.findall(re.compile(r'data-branchName=\"(.*)\"\\r'), hotel_type)"
   ]
  },
  {
   "cell_type": "code",
   "execution_count": 7,
   "metadata": {
    "collapsed": false
   },
   "outputs": [],
   "source": [
    "hotel_type = s.get(link[0]).content.decode('utf-8')"
   ]
  },
  {
   "cell_type": "code",
   "execution_count": null,
   "metadata": {
    "collapsed": false
   },
   "outputs": [],
   "source": [
    "link"
   ]
  },
  {
   "cell_type": "code",
   "execution_count": 14,
   "metadata": {
    "collapsed": false
   },
   "outputs": [],
   "source": [
    "def get_lineMsg(s):\n",
    "\turl = 'http://www.lvmama.com/youlun/line-l660-s0-b0-m0.html'\n",
    "\tcontent = s.get(url).content.decode('utf-8')\n",
    "\tcruise_msg = re.findall(re.compile(r'(<h4>)(.*?>)(.*?)<'), content)\n",
    "\n",
    "\tdate = []\n",
    "\tcruise = []\n",
    "\thotel = []\n",
    "\tprice = []\n",
    "\tlink = []\n",
    "\tsoup = BeautifulSoup(content, \"html.parser\")\n",
    "\tfor header in soup.find_all(\"h4\"):\n",
    "\t\ttry:\n",
    "\t\t\tlink.append(re.findall(re.compile(r'(href=\")(.*?)(\"\\s)'), str(header))[0][1])\n",
    "\t\texcept IndexError as e:\n",
    "\t\t\tprint(\"cannot find the link\")\n",
    "\n",
    "\tfor l in link:\n",
    "\t\thotel_type = s.get(link[1]).content.decode('utf-8')\n",
    "\t\thotel.append(re.findall(re.compile(r'data-branchName=\"(.*)\"\\r'), hotel_type))\n",
    "\t\tprice.append(re.findall(re.compile(r'data-fstPrice=\"(.*)\"\\r'), hotel_type))\n",
    "\t\tprint(\"page {0} scaned\".format(page))\n",
    "\t\tpage += 1\n",
    "\n",
    "\tfor msg in cruise_msg:\n",
    "\t\tdate.append(re.findall(re.compile(r'\\d+月\\d+日'), msg[2])[0])\n",
    "\t\tcruise.append(re.findall(re.compile(r'【.*?】'), msg[2])[0])\n",
    "\t\tprice.append(re.findall(re.compile(r'<big>(.*?)</big>'), content)[0])\n",
    "\treturn date, cruise, hotel, price"
   ]
  },
  {
   "cell_type": "code",
   "execution_count": 12,
   "metadata": {
    "collapsed": false
   },
   "outputs": [
    {
     "ename": "NameError",
     "evalue": "name 'date' is not defined",
     "output_type": "error",
     "traceback": [
      "\u001b[1;31m---------------------------------------------------------------------------\u001b[0m",
      "\u001b[1;31mNameError\u001b[0m                                 Traceback (most recent call last)",
      "\u001b[1;32m<ipython-input-12-a9564ebc3289>\u001b[0m in \u001b[0;36m<module>\u001b[1;34m()\u001b[0m\n\u001b[1;32m----> 1\u001b[1;33m \u001b[0mdate\u001b[0m\u001b[1;33m\u001b[0m\u001b[0m\n\u001b[0m",
      "\u001b[1;31mNameError\u001b[0m: name 'date' is not defined"
     ]
    }
   ],
   "source": []
  },
  {
   "cell_type": "code",
   "execution_count": null,
   "metadata": {
    "collapsed": true
   },
   "outputs": [],
   "source": []
  }
 ],
 "metadata": {
  "kernelspec": {
   "display_name": "Python 3",
   "language": "python",
   "name": "python3"
  },
  "language_info": {
   "codemirror_mode": {
    "name": "ipython",
    "version": 3
   },
   "file_extension": ".py",
   "mimetype": "text/x-python",
   "name": "python",
   "nbconvert_exporter": "python",
   "pygments_lexer": "ipython3",
   "version": "3.5.1"
  }
 },
 "nbformat": 4,
 "nbformat_minor": 0
}
